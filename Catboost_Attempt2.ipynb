{
  "nbformat": 4,
  "nbformat_minor": 0,
  "metadata": {
    "colab": {
      "provenance": []
    },
    "kernelspec": {
      "name": "python3",
      "display_name": "Python 3"
    },
    "language_info": {
      "name": "python"
    }
  },
  "cells": [
    {
      "cell_type": "code",
      "execution_count": 9,
      "metadata": {
        "colab": {
          "base_uri": "https://localhost:8080/"
        },
        "id": "3FbCmpnqs4w2",
        "outputId": "73eafed9-ead6-4fb9-e956-5f4e8262dedd"
      },
      "outputs": [
        {
          "output_type": "stream",
          "name": "stdout",
          "text": [
            "Requirement already satisfied: catboost in /usr/local/lib/python3.10/dist-packages (1.2.7)\n",
            "Requirement already satisfied: graphviz in /usr/local/lib/python3.10/dist-packages (from catboost) (0.20.3)\n",
            "Requirement already satisfied: matplotlib in /usr/local/lib/python3.10/dist-packages (from catboost) (3.7.1)\n",
            "Requirement already satisfied: numpy<2.0,>=1.16.0 in /usr/local/lib/python3.10/dist-packages (from catboost) (1.26.4)\n",
            "Requirement already satisfied: pandas>=0.24 in /usr/local/lib/python3.10/dist-packages (from catboost) (2.1.4)\n",
            "Requirement already satisfied: scipy in /usr/local/lib/python3.10/dist-packages (from catboost) (1.13.1)\n",
            "Requirement already satisfied: plotly in /usr/local/lib/python3.10/dist-packages (from catboost) (5.24.1)\n",
            "Requirement already satisfied: six in /usr/local/lib/python3.10/dist-packages (from catboost) (1.16.0)\n",
            "Requirement already satisfied: python-dateutil>=2.8.2 in /usr/local/lib/python3.10/dist-packages (from pandas>=0.24->catboost) (2.8.2)\n",
            "Requirement already satisfied: pytz>=2020.1 in /usr/local/lib/python3.10/dist-packages (from pandas>=0.24->catboost) (2024.2)\n",
            "Requirement already satisfied: tzdata>=2022.1 in /usr/local/lib/python3.10/dist-packages (from pandas>=0.24->catboost) (2024.1)\n",
            "Requirement already satisfied: contourpy>=1.0.1 in /usr/local/lib/python3.10/dist-packages (from matplotlib->catboost) (1.3.0)\n",
            "Requirement already satisfied: cycler>=0.10 in /usr/local/lib/python3.10/dist-packages (from matplotlib->catboost) (0.12.1)\n",
            "Requirement already satisfied: fonttools>=4.22.0 in /usr/local/lib/python3.10/dist-packages (from matplotlib->catboost) (4.53.1)\n",
            "Requirement already satisfied: kiwisolver>=1.0.1 in /usr/local/lib/python3.10/dist-packages (from matplotlib->catboost) (1.4.7)\n",
            "Requirement already satisfied: packaging>=20.0 in /usr/local/lib/python3.10/dist-packages (from matplotlib->catboost) (24.1)\n",
            "Requirement already satisfied: pillow>=6.2.0 in /usr/local/lib/python3.10/dist-packages (from matplotlib->catboost) (10.4.0)\n",
            "Requirement already satisfied: pyparsing>=2.3.1 in /usr/local/lib/python3.10/dist-packages (from matplotlib->catboost) (3.1.4)\n",
            "Requirement already satisfied: tenacity>=6.2.0 in /usr/local/lib/python3.10/dist-packages (from plotly->catboost) (9.0.0)\n"
          ]
        }
      ],
      "source": [
        "pip install catboost"
      ]
    },
    {
      "cell_type": "code",
      "source": [
        "# Required libraries\n",
        "import numpy as np\n",
        "import pandas as pd\n",
        "from sklearn.model_selection import train_test_split, RandomizedSearchCV\n",
        "from sklearn.metrics import accuracy_score, f1_score, roc_auc_score\n",
        "from catboost import CatBoostClassifier\n",
        "\n",
        "# Load the dataset\n",
        "df = pd.read_csv('/content/train.csv')\n",
        "print(df.head())"
      ],
      "metadata": {
        "colab": {
          "base_uri": "https://localhost:8080/"
        },
        "id": "6NrQty2s5CmN",
        "outputId": "acfa142c-6813-4efc-a035-fee0cb0edb13"
      },
      "execution_count": 22,
      "outputs": [
        {
          "output_type": "stream",
          "name": "stdout",
          "text": [
            "  PassengerId HomePlanet CryoSleep  Cabin  Destination   Age    VIP  \\\n",
            "0     0001_01     Europa     False  B/0/P  TRAPPIST-1e  39.0  False   \n",
            "1     0002_01      Earth     False  F/0/S  TRAPPIST-1e  24.0  False   \n",
            "2     0003_01     Europa     False  A/0/S  TRAPPIST-1e  58.0   True   \n",
            "3     0003_02     Europa     False  A/0/S  TRAPPIST-1e  33.0  False   \n",
            "4     0004_01      Earth     False  F/1/S  TRAPPIST-1e  16.0  False   \n",
            "\n",
            "   RoomService  FoodCourt  ShoppingMall     Spa  VRDeck               Name  \\\n",
            "0          0.0        0.0           0.0     0.0     0.0    Maham Ofracculy   \n",
            "1        109.0        9.0          25.0   549.0    44.0       Juanna Vines   \n",
            "2         43.0     3576.0           0.0  6715.0    49.0      Altark Susent   \n",
            "3          0.0     1283.0         371.0  3329.0   193.0       Solam Susent   \n",
            "4        303.0       70.0         151.0   565.0     2.0  Willy Santantines   \n",
            "\n",
            "   Transported  \n",
            "0        False  \n",
            "1         True  \n",
            "2        False  \n",
            "3        False  \n",
            "4         True  \n"
          ]
        }
      ]
    },
    {
      "cell_type": "code",
      "source": [
        "# Identify categorical columns in the DataFrame\n",
        "categorical_cols = ['HomePlanet', 'CryoSleep', 'Cabin', 'Destination', 'VIP']\n",
        "\n",
        "for col in categorical_cols:\n",
        "    df[col] = df[col].astype(str)\n",
        "\n",
        "for col in categorical_cols:\n",
        "    df[col].fillna('Unknown', inplace=True)\n",
        "\n",
        "df['Cabin'].fillna('1', inplace=True)\n",
        "df['Cabin'] = df['Cabin'].astype('category')\n",
        "\n",
        "df['CryoSleep'] = df['CryoSleep'].replace({'True': True, 'False': False})\n",
        "df['VIP'] = df['VIP'].replace({'True': True, 'False': False})\n",
        "\n",
        "df['Age'].fillna(df['Age'].mean(), inplace=True)\n",
        "\n",
        "# Prepare features (X) and target variable (y)\n",
        "X = df.drop(columns=['PassengerId', 'Name', 'Transported'])\n",
        "y = df['Transported'].astype(int)"
      ],
      "metadata": {
        "id": "THLRd1YE5IJg"
      },
      "execution_count": 24,
      "outputs": []
    },
    {
      "cell_type": "code",
      "source": [
        "# Sample a fraction of the data for quicker testing\n",
        "df_sample = df.sample(frac=0.05, random_state=42)  # Use a smaller fraction\n",
        "X_sample = df_sample.drop(columns=['PassengerId', 'Name', 'Transported'])\n",
        "y_sample = df_sample['Transported'].astype(int)\n",
        "\n",
        "# Split the sample data into training and testing sets\n",
        "X_train_sample, X_test_sample, y_train_sample, y_test_sample = train_test_split(X_sample, y_sample, test_size=0.33, random_state=42)\n",
        "\n",
        "# Define the CatBoostClassifier\n",
        "model = CatBoostClassifier(verbose=0)"
      ],
      "metadata": {
        "id": "QlUa_3iv4j0b"
      },
      "execution_count": 27,
      "outputs": []
    },
    {
      "cell_type": "code",
      "source": [
        "print(df.dtypes)"
      ],
      "metadata": {
        "colab": {
          "base_uri": "https://localhost:8080/"
        },
        "id": "x6MAOEyi5fzK",
        "outputId": "24c69bbc-b6db-4f50-9e96-0523b445ef48"
      },
      "execution_count": 29,
      "outputs": [
        {
          "output_type": "stream",
          "name": "stdout",
          "text": [
            "PassengerId       object\n",
            "HomePlanet        object\n",
            "CryoSleep         object\n",
            "Cabin           category\n",
            "Destination       object\n",
            "Age              float64\n",
            "VIP               object\n",
            "RoomService      float64\n",
            "FoodCourt        float64\n",
            "ShoppingMall     float64\n",
            "Spa              float64\n",
            "VRDeck           float64\n",
            "Name              object\n",
            "Transported         bool\n",
            "dtype: object\n"
          ]
        }
      ]
    },
    {
      "cell_type": "code",
      "source": [
        "# Check for null values in each column\n",
        "null_values = df.isnull().sum()\n",
        "\n",
        "# Display the count of null values\n",
        "print(null_values[null_values > 0])\n"
      ],
      "metadata": {
        "colab": {
          "base_uri": "https://localhost:8080/"
        },
        "id": "efn8Uvn07kek",
        "outputId": "788fe470-d7ed-483b-ef28-c22de523ad8e"
      },
      "execution_count": 30,
      "outputs": [
        {
          "output_type": "stream",
          "name": "stdout",
          "text": [
            "RoomService     181\n",
            "FoodCourt       183\n",
            "ShoppingMall    208\n",
            "Spa             183\n",
            "VRDeck          188\n",
            "Name            200\n",
            "dtype: int64\n"
          ]
        }
      ]
    },
    {
      "cell_type": "code",
      "source": [
        "# Set the hyperparameters for tuning (new grid)\n",
        "param_distributions = {\n",
        "    'depth': [4, 5, 7],\n",
        "    'learning_rate': [0.01, 0.05],\n",
        "    'iterations': [100, 150],\n",
        "    'l2_leaf_reg': [1, 5],\n",
        "    'border_count': [32, 50],\n",
        "    'scale_pos_weight': [1, 2]\n",
        "}\n",
        "\n",
        "# Initialize RandomizedSearchCV\n",
        "random_search = RandomizedSearchCV(estimator=model,\n",
        "                                   param_distributions=param_distributions,\n",
        "                                   scoring='f1',  # Change this to 'accuracy' or 'roc_auc' if needed\n",
        "                                   n_iter=20,  # Number of random combinations to try\n",
        "                                   cv=2,  # Reduced folds for quicker results\n",
        "                                   verbose=2,\n",
        "                                   n_jobs=-1,\n",
        "                                   random_state=42)\n",
        "\n",
        "# Fit the model using RandomizedSearchCV on the sample data\n",
        "random_search.fit(X_train_sample, y_train_sample, cat_features=categorical_cols)\n",
        "\n",
        "# Get the best model\n",
        "best_model = random_search.best_estimator_\n",
        "\n",
        "# Print best hyperparameters\n",
        "print(\"Best Hyperparameters:\", random_search.best_params_)\n",
        "\n",
        "# Make predictions on the test sample\n",
        "y_pred = best_model.predict(X_test_sample)\n"
      ],
      "metadata": {
        "colab": {
          "base_uri": "https://localhost:8080/"
        },
        "id": "3H8Ax8oQ5acm",
        "outputId": "41fa8671-d87c-48f8-eba1-58d36b27924d"
      },
      "execution_count": 26,
      "outputs": [
        {
          "output_type": "stream",
          "name": "stdout",
          "text": [
            "Fitting 2 folds for each of 20 candidates, totalling 40 fits\n",
            "Best Hyperparameters: {'scale_pos_weight': 1, 'learning_rate': 0.05, 'l2_leaf_reg': 1, 'iterations': 150, 'depth': 5, 'border_count': 32}\n"
          ]
        }
      ]
    },
    {
      "cell_type": "code",
      "source": [
        "# Calculate accuracy\n",
        "accuracy = accuracy_score(y_test_sample, y_pred)\n",
        "print(f\"Accuracy: {accuracy:.4f}\")\n",
        "\n",
        "# Calculate F1 score\n",
        "f1 = f1_score(y_test_sample, y_pred)\n",
        "print(f\"F1 Score: {f1:.4f}\")\n",
        "\n",
        "# Predict probabilities for AUC-ROC calculation\n",
        "y_pred_proba = best_model.predict_proba(X_test_sample)[:, 1]\n",
        "\n",
        "# Calculate AUC-ROC score\n",
        "auc_roc = roc_auc_score(y_test_sample, y_pred_proba)\n",
        "print(f\"AUC-ROC Score: {auc_roc:.4f}\")\n"
      ],
      "metadata": {
        "colab": {
          "base_uri": "https://localhost:8080/"
        },
        "id": "hHz3ZHQx48wr",
        "outputId": "eea1835c-88dc-46b4-88ad-83356af4808d"
      },
      "execution_count": 21,
      "outputs": [
        {
          "output_type": "stream",
          "name": "stdout",
          "text": [
            "Accuracy: 0.7500\n",
            "F1 Score: 0.7692\n",
            "AUC-ROC Score: 0.7893\n"
          ]
        }
      ]
    }
  ]
}